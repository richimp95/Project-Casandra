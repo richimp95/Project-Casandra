{
 "cells": [
  {
   "cell_type": "markdown",
   "source": [
    "# Part I. ETL Pipeline for Pre-Processing the Files"
   ],
   "metadata": {
    "editable": true
   }
  },
  {
   "cell_type": "markdown",
   "source": [
    "#### Import Python packages "
   ],
   "metadata": {
    "editable": true
   }
  },
  {
   "cell_type": "code",
   "execution_count": 1,
   "source": [
    "# Import Python packages \r\n",
    "import pandas as pd\r\n",
    "import cassandra\r\n",
    "import re\r\n",
    "import os\r\n",
    "import glob\r\n",
    "import numpy as np\r\n",
    "import json\r\n",
    "import csv"
   ],
   "outputs": [],
   "metadata": {
    "editable": true
   }
  },
  {
   "cell_type": "markdown",
   "source": [
    "#### Creating list of filepaths to process original event csv data files"
   ],
   "metadata": {
    "editable": true
   }
  },
  {
   "cell_type": "code",
   "execution_count": 2,
   "source": [
    "# checking your current working directory\r\n",
    "print(os.getcwd())\r\n",
    "\r\n",
    "# Get your current folder and subfolder event data\r\n",
    "filepath = os.getcwd() + '/event_data'\r\n",
    "\r\n",
    "# Create a for loop to create a list of files and collect each filepath\r\n",
    "for root, dirs, files in os.walk(filepath):\r\n",
    "    \r\n",
    "# join the file path and roots with the subdirectories using glob\r\n",
    "    file_path_list = glob.glob(os.path.join(root,'*'))\r\n",
    "    #print(file_path_list)"
   ],
   "outputs": [
    {
     "output_type": "stream",
     "name": "stdout",
     "text": [
      "/home/workspace\n"
     ]
    }
   ],
   "metadata": {
    "editable": true
   }
  },
  {
   "cell_type": "markdown",
   "source": [
    "#### Processing the files to create the data file csv that will be used for Apache Casssandra tables"
   ],
   "metadata": {
    "editable": true
   }
  },
  {
   "cell_type": "code",
   "execution_count": 3,
   "source": [
    "# initiating an empty list of rows that will be generated from each file\r\n",
    "full_data_rows_list = [] \r\n",
    "    \r\n",
    "# for every filepath in the file path list \r\n",
    "for f in file_path_list:\r\n",
    "\r\n",
    "# reading csv file \r\n",
    "    with open(f, 'r', encoding = 'utf8', newline='') as csvfile: \r\n",
    "        # creating a csv reader object \r\n",
    "        csvreader = csv.reader(csvfile) \r\n",
    "        next(csvreader)\r\n",
    "        \r\n",
    " # extracting each data row one by one and append it        \r\n",
    "        for line in csvreader:\r\n",
    "            #print(line)\r\n",
    "            full_data_rows_list.append(line) \r\n",
    "            \r\n",
    "# uncomment the code below if you would like to get total number of rows \r\n",
    "#print(len(full_data_rows_list))\r\n",
    "# uncomment the code below if you would like to check to see what the list of event data rows will look like\r\n",
    "#print(full_data_rows_list)\r\n",
    "\r\n",
    "# creating a smaller event data csv file called event_datafile_full csv that will be used to insert data into the \\\r\n",
    "# Apache Cassandra tables\r\n",
    "csv.register_dialect('myDialect', quoting=csv.QUOTE_ALL, skipinitialspace=True)\r\n",
    "\r\n",
    "with open('event_datafile_new.csv', 'w', encoding = 'utf8', newline='') as f:\r\n",
    "    writer = csv.writer(f, dialect='myDialect')\r\n",
    "    writer.writerow(['artist','firstName','gender','itemInSession','lastName','length',\\\r\n",
    "                'level','location','sessionId','song','userId'])\r\n",
    "    for row in full_data_rows_list:\r\n",
    "        if (row[0] == ''):\r\n",
    "            continue\r\n",
    "        writer.writerow((row[0], row[2], row[3], row[4], row[5], row[6], row[7], row[8], row[12], row[13], row[16]))\r\n"
   ],
   "outputs": [],
   "metadata": {
    "editable": true
   }
  },
  {
   "cell_type": "code",
   "execution_count": 4,
   "source": [
    "# Check the number of rows in your csv file\r\n",
    "with open('event_datafile_new.csv', 'r', encoding = 'utf8') as f:\r\n",
    "    print(sum(1 for line in f))"
   ],
   "outputs": [
    {
     "output_type": "stream",
     "name": "stdout",
     "text": [
      "6821\n"
     ]
    }
   ],
   "metadata": {
    "editable": true
   }
  },
  {
   "cell_type": "markdown",
   "source": [
    "# Part II. Apache Cassandra code. \r\n",
    "\r\n",
    "## <font color=red>event_datafile_new.csv</font>, located within the Workspace directory.\r\n",
    "## Columns: \r\n",
    "\r\n",
    "- artist \r\n",
    "- firstName of user\r\n",
    "- gender of user\r\n",
    "- item number in session\r\n",
    "- last name of user\r\n",
    "- length of the song\r\n",
    "- level (paid or free song)\r\n",
    "- location of the user\r\n",
    "- sessionId\r\n",
    "- song title\r\n",
    "- userId\r\n",
    "\r\n",
    "The image below is a screenshot of what the denormalized data should appear like in the <font color=red>**event_datafile_new.csv**</font> after the code above is run:<br>"
   ],
   "metadata": {
    "editable": true
   }
  },
  {
   "cell_type": "markdown",
   "source": [
    "#### Creating a Cluster"
   ],
   "metadata": {
    "editable": true
   }
  },
  {
   "cell_type": "code",
   "execution_count": 5,
   "source": [
    "# This should make a connection to a Cassandra instance your local machine \r\n",
    "# (127.0.0.1)\r\n",
    "\r\n",
    "from cassandra.cluster import Cluster\r\n",
    "cluster = Cluster()\r\n",
    "\r\n",
    "# To establish connection and begin executing queries, need a session\r\n",
    "session = cluster.connect()"
   ],
   "outputs": [],
   "metadata": {
    "editable": true
   }
  },
  {
   "cell_type": "markdown",
   "source": [
    "#### Create Keyspace"
   ],
   "metadata": {
    "editable": true
   }
  },
  {
   "cell_type": "code",
   "execution_count": 6,
   "source": [
    "try:\r\n",
    "    session.execute(\"\"\"\r\n",
    "    CREATE KEYSPACE IF NOT EXISTS udacity_project_2 \r\n",
    "    WITH REPLICATION = \r\n",
    "    { 'class' : 'SimpleStrategy', 'replication_factor' : 1 }\"\"\"\r\n",
    ")\r\n",
    "\r\n",
    "except Exception as e:\r\n",
    "    print(e)"
   ],
   "outputs": [],
   "metadata": {
    "editable": true
   }
  },
  {
   "cell_type": "markdown",
   "source": [
    "#### Set Keyspace"
   ],
   "metadata": {
    "editable": true
   }
  },
  {
   "cell_type": "code",
   "execution_count": 7,
   "source": [
    "try:\r\n",
    "    session.set_keyspace('udacity_project_2')\r\n",
    "except Exception as e:\r\n",
    "    print(e)"
   ],
   "outputs": [],
   "metadata": {
    "editable": true
   }
  },
  {
   "cell_type": "markdown",
   "source": [
    "# Table songs_by_session\r\n",
    "\r\n",
    "## For table songs_by_session, the sessionId column was used as a partition key because the queries will filter by this column. itemInSession was used as clustering columns to help make up a unique key."
   ],
   "metadata": {
    "editable": true
   }
  },
  {
   "cell_type": "code",
   "execution_count": 17,
   "source": [
    "query = \"CREATE TABLE IF NOT EXISTS songs_by_session \"\r\n",
    "query = query + \"\"\"\r\n",
    "(sessionId int, \r\n",
    " itemInSession int, \r\n",
    " artist text, \r\n",
    " length float, \r\n",
    " song text, \r\n",
    " PRIMARY KEY (sessionId, itemInSession))\r\n",
    "\"\"\"\r\n",
    "try:\r\n",
    "    session.execute(query)\r\n",
    "except Exception as e:\r\n",
    "    print(e)"
   ],
   "outputs": [],
   "metadata": {
    "editable": true
   }
  },
  {
   "cell_type": "markdown",
   "source": [
    "# Table songs_by_user\r\n",
    "\r\n",
    "## For table songs_by_user, the userid column and the sessionId column were used as the partition key because the queries will filter by this columns. itemInSession was used as clustering columns to help make up a unique key."
   ],
   "metadata": {}
  },
  {
   "cell_type": "code",
   "execution_count": null,
   "source": [
    "query = \"CREATE TABLE IF NOT EXISTS songs_by_user \"\r\n",
    "query = query + \"\"\"\r\n",
    "(userId int, \r\n",
    " sessionId int, \r\n",
    " itemInSession int, \r\n",
    " artist text, \r\n",
    " firstName text, \r\n",
    " lastName text, \r\n",
    " song text, \r\n",
    " PRIMARY KEY ((userid, sessionId), itemInSession))\r\n",
    "\"\"\"\r\n",
    "try:\r\n",
    "    session.execute(query)\r\n",
    "except Exception as e:\r\n",
    "    print(e)"
   ],
   "outputs": [],
   "metadata": {}
  },
  {
   "cell_type": "markdown",
   "source": [
    "# Table username_by_song\r\n",
    "\r\n",
    "## For table username_by_song, the song column was used as a partition key because the queries will filter by this column. userid was used as clustering columns to help make up a unique key."
   ],
   "metadata": {}
  },
  {
   "cell_type": "code",
   "execution_count": null,
   "source": [
    "query = \"CREATE TABLE IF NOT EXISTS username_by_song \"\r\n",
    "query = query + \"\"\"\r\n",
    "(song text, \r\n",
    " userId int,\r\n",
    " firstName text, \r\n",
    " lastName text,\r\n",
    " PRIMARY KEY (song, userid))\r\n",
    "\"\"\"\r\n",
    "try:\r\n",
    "    session.execute(query)\r\n",
    "except Exception as e:\r\n",
    "    print(e)"
   ],
   "outputs": [],
   "metadata": {}
  },
  {
   "cell_type": "code",
   "execution_count": 18,
   "source": [
    "file = 'event_datafile_new.csv'\r\n",
    "\r\n",
    "with open(file, encoding = 'utf8') as f:\r\n",
    "    csvreader = csv.reader(f)\r\n",
    "    next(csvreader) # skip header\r\n",
    "    for line in csvreader:\r\n",
    "\r\n",
    "\r\n",
    "        query = \"\"\"\r\n",
    "        INSERT INTO songs_by_session (sessionId, itemInSession, artist, length, song)\r\n",
    "        \"\"\"\r\n",
    "        query = query + \" VALUES (%s, %s, %s, %s, %s)\"\r\n",
    "        try:\r\n",
    "            session.execute(query, (int(line[8]), int(line[3]), line[0], float(line[5]), line[9]))\r\n",
    "        except Exception as e:\r\n",
    "            print(e)\r\n",
    "        \r\n",
    "        \r\n",
    "        query = \"\"\"\r\n",
    "        INSERT INTO songs_by_user (userId, sessionId, itemInSession, artist, firstName, lastName, song)\r\n",
    "        \"\"\"\r\n",
    "        query = query + \" VALUES (%s, %s, %s, %s, %s, %s, %s)\"\r\n",
    "        try:\r\n",
    "            session.execute(query, (int(line[10]), int(line[8]), int(line[3]), line[0], line[1], line[4], line[9]))\r\n",
    "        except Exception as e:\r\n",
    "            print(e)\r\n",
    "            \r\n",
    "        query = \"\"\"\r\n",
    "        INSERT INTO username_by_song (song, userId, firstName, lastName)\r\n",
    "        \"\"\"\r\n",
    "        query = query + \" VALUES (%s, %s, %s, %s)\"\r\n",
    "        try:\r\n",
    "            session.execute(query, (line[9], int(line[10]), line[1], line[4]))\r\n",
    "        except Exception as e:\r\n",
    "            print(e)\r\n",
    "        \r\n"
   ],
   "outputs": [],
   "metadata": {
    "editable": true
   }
  },
  {
   "cell_type": "markdown",
   "source": [
    "#### SELECT to verify that the data have been inserted into each table"
   ],
   "metadata": {
    "editable": true
   }
  },
  {
   "cell_type": "code",
   "execution_count": 19,
   "source": [
    "query = \"select artist from songs_by_session WHERE sessionId = 338\"\r\n",
    "try:\r\n",
    "    rows = session.execute(query)\r\n",
    "except Exception as e:\r\n",
    "    print(e)\r\n",
    "    \r\n",
    "for row in rows:\r\n",
    "    print (row.artist)"
   ],
   "outputs": [
    {
     "output_type": "stream",
     "name": "stdout",
     "text": [
      "Pixies\n",
      "The Roots / Jack Davey\n",
      "Mike And The Mechanics\n",
      "Faithless\n"
     ]
    }
   ],
   "metadata": {
    "editable": true,
    "scrolled": true
   }
  },
  {
   "cell_type": "markdown",
   "source": [
    "## Query 1\r\n",
    "Get me the artist, song title and song's length in the music app history that was heard during sessionId = 338, and itemInSession = 4"
   ],
   "metadata": {}
  },
  {
   "cell_type": "code",
   "execution_count": 20,
   "source": [
    "query = \"select artist, song, length from songs_by_session WHERE sessionId = 338 and itemInSession = 4\"\r\n",
    "try:\r\n",
    "    rows = session.execute(query)\r\n",
    "except Exception as e:\r\n",
    "    print(e)\r\n",
    "    \r\n",
    "for row in rows:\r\n",
    "    print (row.artist, row.song, row.length)"
   ],
   "outputs": [
    {
     "output_type": "stream",
     "name": "stdout",
     "text": [
      "Faithless Music Matters (Mark Knight Dub) 495.30731201171875\n"
     ]
    }
   ],
   "metadata": {
    "editable": true
   }
  },
  {
   "cell_type": "markdown",
   "source": [
    "## Query 2\r\n",
    "Get only the following: name of artist, song (sorted by itemInSession) and user (first and last name) for userid = 10, sessionid = 182"
   ],
   "metadata": {}
  },
  {
   "cell_type": "code",
   "execution_count": 24,
   "source": [
    "query = \"select artist, song, firstname, lastname from songs_by_user WHERE userid = 10 and sessionid = 182\"\r\n",
    "try:\r\n",
    "    rows = session.execute(query)\r\n",
    "except Exception as e:\r\n",
    "    print(e)\r\n",
    "    \r\n",
    "for row in rows:\r\n",
    "    print (row.artist, row.song, row.firstname, row.lastname)\r\n",
    "                    "
   ],
   "outputs": [
    {
     "output_type": "stream",
     "name": "stdout",
     "text": [
      "Down To The Bone Keep On Keepin' On Sylvie Cruz\n",
      "Three Drives Greece 2000 Sylvie Cruz\n",
      "Sebastien Tellier Kilometer Sylvie Cruz\n",
      "Lonnie Gordon Catch You Baby (Steve Pitron & Max Sanna Radio Edit) Sylvie Cruz\n"
     ]
    }
   ],
   "metadata": {
    "editable": true
   }
  },
  {
   "cell_type": "markdown",
   "source": [
    "## Query 3\r\n",
    "Get every user name (first and last) in my music app history who listened to the song 'All Hands Against His Own'"
   ],
   "metadata": {}
  },
  {
   "cell_type": "code",
   "execution_count": 25,
   "source": [
    "query = \"select firstname, lastname from username_by_song WHERE song = 'All Hands Against His Own'\"\r\n",
    "try:\r\n",
    "    rows = session.execute(query)\r\n",
    "except Exception as e:\r\n",
    "    print(e)\r\n",
    "    \r\n",
    "for row in rows:\r\n",
    "    print (row.firstname, row.lastname)"
   ],
   "outputs": [
    {
     "output_type": "stream",
     "name": "stdout",
     "text": [
      "Jacqueline Lynch\n"
     ]
    }
   ],
   "metadata": {
    "editable": true
   }
  },
  {
   "cell_type": "markdown",
   "source": [
    "### Drop the tables before closing out the sessions"
   ],
   "metadata": {
    "editable": true
   }
  },
  {
   "cell_type": "code",
   "execution_count": 16,
   "source": [
    "\r\n",
    "query = \"DROP TABLE IF EXISTS songs_by_session\"\r\n",
    "try:\r\n",
    "    rows = session.execute(query)\r\n",
    "except Exception as e:\r\n",
    "    print(e)\r\n",
    "    \r\n",
    "query = \"DROP TABLE IF EXISTS songs_by_user\"\r\n",
    "try:\r\n",
    "    rows = session.execute(query)\r\n",
    "except Exception as e:\r\n",
    "    print(e)\r\n",
    "\r\n",
    "query = \"DROP TABLE IF EXISTS username_by_song\"\r\n",
    "try:\r\n",
    "    rows = session.execute(query)\r\n",
    "except Exception as e:\r\n",
    "    print(e)\r\n"
   ],
   "outputs": [],
   "metadata": {
    "editable": true
   }
  },
  {
   "cell_type": "markdown",
   "source": [
    "### Close the session and cluster connection¶"
   ],
   "metadata": {
    "editable": true
   }
  },
  {
   "cell_type": "code",
   "execution_count": null,
   "source": [
    "session.shutdown()\r\n",
    "cluster.shutdown()"
   ],
   "outputs": [],
   "metadata": {
    "editable": true
   }
  }
 ],
 "metadata": {
  "kernelspec": {
   "display_name": "Python 3",
   "language": "python",
   "name": "python3"
  },
  "language_info": {
   "codemirror_mode": {
    "name": "ipython",
    "version": 3
   },
   "file_extension": ".py",
   "mimetype": "text/x-python",
   "name": "python",
   "nbconvert_exporter": "python",
   "pygments_lexer": "ipython3",
   "version": "3.6.3"
  }
 },
 "nbformat": 4,
 "nbformat_minor": 4
}